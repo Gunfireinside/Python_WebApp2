{
 "cells": [
  {
   "cell_type": "code",
   "execution_count": 1,
   "metadata": {},
   "outputs": [],
   "source": [
    "from sqlalchemy import create_engine\n",
    "from sqlalchemy.orm import Session\n",
    "from test_model import Person"
   ]
  },
  {
   "cell_type": "code",
   "execution_count": 2,
   "metadata": {},
   "outputs": [],
   "source": [
    "engine = create_engine('sqlite:///test_db', echo=True)\n",
    "session = Session(engine)\n"
   ]
  },
  {
   "cell_type": "code",
   "execution_count": 3,
   "metadata": {},
   "outputs": [
    {
     "name": "stdout",
     "output_type": "stream",
     "text": [
      "2022-06-25 17:14:45,175 INFO sqlalchemy.engine.Engine BEGIN (implicit)\n",
      "2022-06-25 17:14:45,178 INFO sqlalchemy.engine.Engine SELECT person.id AS person_id, person.name AS person_name, person.size AS person_size \n",
      "FROM person\n",
      "2022-06-25 17:14:45,179 INFO sqlalchemy.engine.Engine [generated in 0.00074s] ()\n"
     ]
    }
   ],
   "source": [
    "persons = session.query(Person).all()\n"
   ]
  },
  {
   "cell_type": "code",
   "execution_count": 4,
   "metadata": {},
   "outputs": [
    {
     "name": "stdout",
     "output_type": "stream",
     "text": [
      "id:1 name:changed_name size:10.5\n",
      "id:2 name:name_b size:None\n",
      "id:3 name:name_c size:3.14\n",
      "id:4 name:from_model size:100.0\n",
      "id:5 name:name_i size:99.9\n",
      "id:48 name:name_i size:99.9\n",
      "id:49 name:name_i size:99.9\n",
      "id:50 name:name_i size:99.9\n",
      "id:100 name:name_z size:99.9\n"
     ]
    }
   ],
   "source": [
    "for person in persons:\n",
    "    print(f'id:{person.id} name:{person.name} size:{person.size}')"
   ]
  },
  {
   "cell_type": "code",
   "execution_count": 5,
   "metadata": {},
   "outputs": [],
   "source": [
    "new_person = Person(id=7, name='from_model', size=100)\n",
    "session.add(new_person)\n"
   ]
  },
  {
   "cell_type": "code",
   "execution_count": 6,
   "metadata": {},
   "outputs": [
    {
     "name": "stdout",
     "output_type": "stream",
     "text": [
      "2022-06-25 17:14:45,305 INFO sqlalchemy.engine.Engine INSERT INTO person (id, name, size) VALUES (?, ?, ?)\n",
      "2022-06-25 17:14:45,306 INFO sqlalchemy.engine.Engine [generated in 0.00170s] (7, 'from_model', 100.0)\n",
      "2022-06-25 17:14:45,308 INFO sqlalchemy.engine.Engine COMMIT\n"
     ]
    }
   ],
   "source": [
    "session.commit()\n"
   ]
  },
  {
   "cell_type": "code",
   "execution_count": 7,
   "metadata": {},
   "outputs": [
    {
     "name": "stdout",
     "output_type": "stream",
     "text": [
      "2022-06-25 17:14:45,377 INFO sqlalchemy.engine.Engine BEGIN (implicit)\n",
      "2022-06-25 17:14:45,379 INFO sqlalchemy.engine.Engine SELECT person.id AS person_id, person.name AS person_name, person.size AS person_size \n",
      "FROM person\n",
      "2022-06-25 17:14:45,379 INFO sqlalchemy.engine.Engine [cached since 0.2017s ago] ()\n",
      "{'_sa_instance_state': <sqlalchemy.orm.state.InstanceState object at 0x7f84b97dfb80>, 'name': 'changed_name', 'size': 10.5, 'id': 1}\n",
      "{'_sa_instance_state': <sqlalchemy.orm.state.InstanceState object at 0x7f84b97dfaf0>, 'name': 'name_b', 'size': None, 'id': 2}\n",
      "{'_sa_instance_state': <sqlalchemy.orm.state.InstanceState object at 0x7f84b97dfc40>, 'name': 'name_c', 'size': 3.14, 'id': 3}\n",
      "{'_sa_instance_state': <sqlalchemy.orm.state.InstanceState object at 0x7f84b97dfcd0>, 'name': 'from_model', 'size': 100.0, 'id': 4}\n",
      "{'_sa_instance_state': <sqlalchemy.orm.state.InstanceState object at 0x7f84b97dfd60>, 'name': 'name_i', 'size': 99.9, 'id': 5}\n",
      "{'_sa_instance_state': <sqlalchemy.orm.state.InstanceState object at 0x7f84b97df9a0>, 'name': 'from_model', 'size': 100.0, 'id': 7}\n",
      "{'_sa_instance_state': <sqlalchemy.orm.state.InstanceState object at 0x7f84b97dfdf0>, 'name': 'name_i', 'size': 99.9, 'id': 48}\n",
      "{'_sa_instance_state': <sqlalchemy.orm.state.InstanceState object at 0x7f84b97dfe80>, 'name': 'name_i', 'size': 99.9, 'id': 49}\n",
      "{'_sa_instance_state': <sqlalchemy.orm.state.InstanceState object at 0x7f84b97dff10>, 'name': 'name_i', 'size': 99.9, 'id': 50}\n",
      "{'_sa_instance_state': <sqlalchemy.orm.state.InstanceState object at 0x7f84b97dffa0>, 'name': 'name_z', 'size': 99.9, 'id': 100}\n"
     ]
    }
   ],
   "source": [
    "persons = session.query(Person).all()\n",
    "for person in persons:\n",
    "    print(person.__dict__)\n"
   ]
  },
  {
   "cell_type": "code",
   "execution_count": 8,
   "metadata": {},
   "outputs": [
    {
     "name": "stdout",
     "output_type": "stream",
     "text": [
      "2022-06-25 17:14:45,430 INFO sqlalchemy.engine.Engine SELECT person.id AS person_id, person.name AS person_name, person.size AS person_size \n",
      "FROM person \n",
      "WHERE person.id = ?\n",
      " LIMIT ? OFFSET ?\n",
      "2022-06-25 17:14:45,432 INFO sqlalchemy.engine.Engine [generated in 0.00245s] (4, 1, 0)\n",
      "2022-06-25 17:14:45,435 INFO sqlalchemy.engine.Engine UPDATE person SET size=? WHERE person.id = ?\n",
      "2022-06-25 17:14:45,436 INFO sqlalchemy.engine.Engine [generated in 0.00069s] (2.236, 4)\n",
      "2022-06-25 17:14:45,438 INFO sqlalchemy.engine.Engine COMMIT\n",
      "2022-06-25 17:14:45,452 INFO sqlalchemy.engine.Engine BEGIN (implicit)\n",
      "2022-06-25 17:14:45,453 INFO sqlalchemy.engine.Engine DELETE FROM person WHERE person.size > ?\n",
      "2022-06-25 17:14:45,454 INFO sqlalchemy.engine.Engine [generated in 0.00070s] (10,)\n",
      "2022-06-25 17:14:45,455 INFO sqlalchemy.engine.Engine COMMIT\n",
      "2022-06-25 17:14:45,466 INFO sqlalchemy.engine.Engine BEGIN (implicit)\n",
      "2022-06-25 17:14:45,467 INFO sqlalchemy.engine.Engine SELECT * FROM person WHERE id = ?\n",
      "2022-06-25 17:14:45,468 INFO sqlalchemy.engine.Engine [generated in 0.00052s] (4,)\n",
      "(4, 'from_model', 2.236)\n",
      "2022-06-25 17:14:45,469 INFO sqlalchemy.engine.Engine ROLLBACK\n"
     ]
    }
   ],
   "source": [
    "person4 = session.query(Person).filter(Person.id==4).first()\n",
    "person4.size = 2.236\n",
    "session.commit()\n",
    "session.query(Person).filter(Person.size>10).delete()\n",
    "session.commit()\n",
    "result_list = session.execute('SELECT * FROM person WHERE id = :id', {\"id\":4}) \n",
    "for result in result_list:\n",
    "    print(result)\n",
    "\n",
    "session.close()\n",
    "\n"
   ]
  }
 ],
 "metadata": {
  "kernelspec": {
   "display_name": "Python 3.8.10 ('venv': venv)",
   "language": "python",
   "name": "python3"
  },
  "language_info": {
   "codemirror_mode": {
    "name": "ipython",
    "version": 3
   },
   "file_extension": ".py",
   "mimetype": "text/x-python",
   "name": "python",
   "nbconvert_exporter": "python",
   "pygments_lexer": "ipython3",
   "version": "3.8.10"
  },
  "orig_nbformat": 4,
  "vscode": {
   "interpreter": {
    "hash": "83b22c179d4ddbaa43c354667c64c9f3ac503cf058f2f745b4fac74db57a27fa"
   }
  }
 },
 "nbformat": 4,
 "nbformat_minor": 2
}
